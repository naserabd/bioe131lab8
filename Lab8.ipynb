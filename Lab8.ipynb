{
 "cells": [
  {
   "cell_type": "markdown",
   "metadata": {},
   "source": [
    "# Lab 8 \n",
    "\n",
    "#### Ran SPAdes genome assembler from the command line:\n",
    "spades.py --o Lab8 -1 /data/lab8/illumina_reads_R1.fastq -2 /data/lab8/illumina_reads_R2.fastq --pacbio /data/lab8/pacbio_reads.fastq -t\n",
    "\n",
    "**Why do we expect short reads to produce a more fragmented assembly than long reads?**  \n",
    "Because it is difficult to distinguish between repeats that occur frequently in the genome, if the overlapping between the reads are not long enough when the reads themselves are short.  \n",
    "Reference: “New advances in sequence assembly” Genome research vol. 27,5 (2017): xi-xiii.)  \n",
    "\n",
    "**Why does a single-molecule sequencing like PacBio have a higher error rate than Illumina?**  \n",
    "Because it allows fewer passes, due to the nature of its polymerase and also the length of the sequencce. Errors occur randomly in single-molecule sequencing. This means that with long sequence, it only allows few passes and there is not enough repetition to achieve the concensus sequence with reduced error rate.  \n",
    "Reference: Ardui, Simon et al. “Single molecule real-time (SMRT) sequencing comes of age: applications and utilities for medical diagnostics” Nucleic acids research vol. 46,5 (2018): 2159-2168.)"
   ]
  },
  {
   "cell_type": "markdown",
   "metadata": {},
   "source": [
    "# Lab 9"
   ]
  },
  {
   "cell_type": "code",
   "execution_count": 106,
   "metadata": {
    "scrolled": false
   },
   "outputs": [],
   "source": [
    "# import packages\n",
    "import subprocess\n",
    "from Bio import SeqIO\n",
    "import matplotlib.pyplot as plt"
   ]
  },
  {
   "cell_type": "code",
   "execution_count": 107,
   "metadata": {},
   "outputs": [
    {
     "name": "stdout",
     "output_type": "stream",
     "text": [
      "\n",
      "stats for contigs.fasta\n",
      "sum = 6668871, n = 179, ave = 37256.26, largest = 468307\n",
      "N50 = 213892, n = 11\n",
      "N60 = 195508, n = 14\n",
      "N70 = 148554, n = 18\n",
      "N80 = 103352, n = 23\n",
      "N90 = 81820, n = 30\n",
      "N100 = 128, n = 179\n",
      "N_count = 0\n",
      "Gaps = 0\n",
      "-------------------------------------------------------------------------------\n",
      "stats for scaffolds.fasta\n",
      "sum = 6672441, n = 173, ave = 38569.02, largest = 468307\n",
      "N50 = 261858, n = 10\n",
      "N60 = 253666, n = 12\n",
      "N70 = 207869, n = 15\n",
      "N80 = 124081, n = 20\n",
      "N90 = 92098, n = 26\n",
      "N100 = 128, n = 173\n",
      "N_count = 144\n",
      "Gaps = 7\n",
      "\n"
     ]
    }
   ],
   "source": [
    "#calculate statistics\n",
    "command = \"assembly-stats contigs.fasta scaffolds.fasta\"\n",
    "p = subprocess.run(command.split(), stdout=subprocess.PIPE, stderr=subprocess.PIPE)\n",
    "print(p.stderr.decode())\n",
    "print(p.stdout.decode())"
   ]
  },
  {
   "cell_type": "markdown",
   "metadata": {},
   "source": [
    "    Total length of all contigs: 6668871   \n",
    "    Total length of all scaffolds: 6672441  \n",
    "    The number of contigs: 179  \n",
    "    The number of scaffolds: 173    \n",
    "    N50 of contigs: 213892   \n",
    "    N50 of scaffolds: 261858\n",
    "\n",
    "**Why is N50 is useful statistic to calculate? Why not just list the mean or median contig length? In your assembly, are scaffolds longer than contigs, or are scaffolds approximately equal to contigs?**  \n",
    "N50 indicates the sequence length of the shortest contig at 50% of the total genome length ([reference](https://en.wikipedia.org/wiki/N50,_L50,_and_related_statistics)). It is a more accurate way to know the general length of contigs in the assembly than the mean of median, which can be distorted if lots of very short contigs or lots of very long contigs are present. In my assembly, it seems scaffolds are longer than contigs, as indicated by their N50 statistic. "
   ]
  },
  {
   "cell_type": "code",
   "execution_count": 112,
   "metadata": {},
   "outputs": [
    {
     "data": {
      "text/plain": [
       "<BarContainer object of 2 artists>"
      ]
     },
     "execution_count": 112,
     "metadata": {},
     "output_type": "execute_result"
    },
    {
     "data": {
      "image/png": "[encoded data removed]",
      "text/plain": [
       "<Figure size 1080x432 with 1 Axes>"
      ]
     },
     "metadata": {
      "needs_background": "light"
     },
     "output_type": "display_data"
    },
    {
     "data": {
      "image/png": "[encoded data removed]",
      "text/plain": [
       "<Figure size 144x432 with 1 Axes>"
      ]
     },
     "metadata": {
      "needs_background": "light"
     },
     "output_type": "display_data"
    }
   ],
   "source": [
    "# create list of coverage for each contig\n",
    "contig_name = []\n",
    "contig_coverage = []\n",
    "# extract converage for each contig\n",
    "for record in SeqIO.parse(\"contigs.fasta\", \"fasta\"):\n",
    "    name = record.id.split(\"_length\",1)[0]\n",
    "    cov = record.id.split(\"cov_\",1)[1]\n",
    "    contig_name.append(name)\n",
    "    contig_coverage.append(float(cov))\n",
    "\n",
    "# plot coverage\n",
    "\n",
    "plt.figure(figsize=(15,6))\n",
    "plt.xlabel('Contig')\n",
    "plt.ylabel('Coverage')\n",
    "\n",
    "# plot coverage for NODE 1-177\n",
    "plt.bar(contig_name[0:177], contig_coverage[0:177], color = ['blue'])\n",
    "\n",
    "plt.figure(figsize=(2,6))\n",
    "plt.xlabel('Contig')\n",
    "plt.ylabel('Coverage')\n",
    "\n",
    "# plot coverage for NODE 178-179\n",
    "plt.bar(contig_name[177:179], contig_coverage[177:179], color = ['blue'])\n"
   ]
  },
  {
   "cell_type": "markdown",
   "metadata": {},
   "source": [
    "**Is coverage uniformly distributed? Does it look Gaussian? Is it bimodal or trimodal?**  \n",
    "Coverage is uniformly distributed among certain parts. Some extreme values are present at multiple locations.  \n",
    "\n",
    "**What explains the presence of contigs with coverage an integer multiple of the mean coverage?**\n",
    "The sequence of the contig is conserved at multiple locations of the genome perhaps. "
   ]
  },
  {
   "cell_type": "code",
   "execution_count": 110,
   "metadata": {},
   "outputs": [
    {
     "name": "stdout",
     "output_type": "stream",
     "text": [
      "\n",
      "\n"
     ]
    }
   ],
   "source": [
    "# locate 16S ribosomal RNA gene\n",
    "command = \"rna_hmm3.py -i scaffolds.fasta -o 16S_gene.gff\"\n",
    "p = subprocess.run(command.split(), stdout=subprocess.PIPE, stderr=subprocess.PIPE)\n",
    "print(p.stderr.decode())\n",
    "print(p.stdout.decode())"
   ]
  },
  {
   "cell_type": "markdown",
   "metadata": {},
   "source": [
    "### Manually deleted all the lines other than ones corresponding to 16S gene within file 16S_gene.gff"
   ]
  },
  {
   "cell_type": "code",
   "execution_count": 111,
   "metadata": {
    "scrolled": false
   },
   "outputs": [
    {
     "name": "stdout",
     "output_type": "stream",
     "text": [
      "index file contigs.fasta.fai not found, generating...\n",
      "WARNING. chromosome (NODE_6_length_332489_cov_9.062558) was not found in the FASTA file. Skipping.\n",
      "WARNING. chromosome (NODE_4_length_352739_cov_8.419214) was not found in the FASTA file. Skipping.\n",
      "WARNING. chromosome (NODE_7_length_327230_cov_9.134087) was not found in the FASTA file. Skipping.\n",
      "WARNING. chromosome (NODE_21_length_103352_cov_10.011827) was not found in the FASTA file. Skipping.\n",
      "\n",
      ">NODE_1_length_468307_cov_8.955035:159049-160594\n",
      "TTTGAACTGAAGAGTTTGATCATGGCTCAGATTGAACGCTGGCGGCAGGCCTAACACATGCAAGTCGAGCGGTAGAGAGGTGCTTGCACCTCTTGAGAGCGGCGGACGGGTGAGTAATGCCTAGGAATCTGCCTGGTAGTGGGGGATAACGCTCGGAAACGGACGCTAATACCGCATACGTCCTACGGGAGAAAGCAGGGGACCTTCGGGCCTTGCGCTATCAGATGAGCCTAGGTCGGATTAGCTAGTTGGTGAGGTAATGGCTCACCAAGGCGACGATCCGTAACTGGTCTGAGAGGATGATCAGTCACACTGGAACTGAGACACGGTCCAGACTCCTACGGGAGGCAGCAGTGGGGAATATTGGACAATGGGCGAAAGCCTGATCCAGCCATGCCGCGTGTGTGAAGAAGGTCTTCGGATTGTAAAGCACTTTAAGTTGGGAGGAAGGGCAGTTACCTAATACGTAATTGTTTTGACGTTACCGACAGAATAAGCACCGGCTAACTCTGTGCCAGCAGCCGCGGTAATACAGAGGGTGCAAGCGTTAATCGGAATTACTGGGCGTAAAGCGCGCGTAGGTGGTTCGTTAAGTTGGATGTGAAATCCCCGGGCTCAACCTGGGAACTGCATTCAAAACTGACGAGCTAGAGTATGGTAGAGGGTGGTGGAATTTCCTGTGTAGCGGTGAAATGCGTAGATATAGGAAGGAACACCAGTGGCGAAGGCGACCACCTGGACTGATACTGACACTGAGGTGCGAAAGCGTGGGGAGCAAACAGGATTAGATACCCTGGTAGTCCACGCCGTAAACGATGTCAACTAGCCGTTGGGAGCCTTGAGCTCTTAGTGGCGCAGCTAACGCATTAAGTTGACCGCCTGGGGAGTACGGCCGCAAGGTTAAAACTCAAATGAATTGACGGGGGCCCGCACAAGCGGTGGAGCATGTGGTTTAATTCGAAGCAACGCGAAGAACCTTACCAGGCCTTGACATCCAATGAACTTTCCAGAGATGGATTGGTGCCTTCGGGAACATTGAGACAGGTGCTGCATGGCTGTCGTCAGCTCGTGTCGTGAGATGTTGGGTTAAGTCCCGTAACGAGCGCAACCCTTGTCCTTAGTTACCAGCACGTAATGGTGGGCACTCTAAGGAGACTGCCGGTGACAAACCGGAGGAAGGTGGGGATGACGTCAAGTCATCATGGCCCTTACGGCCTGGGCTACACACGTGCTACAATGGTCGGTACAGAGGGTTGCCAAGCCGCGAGGTGGAGCTAATCCCAGAAAACCGATCGTAGTCCGGATCGCAGTCTGCAACTCGACTGCGTGAAGTCGGAATCGCTAGTAATCGCGAATCAGAATGTCGCGGTGAATACGTTCCCGGGCCTTGTACACACCGCCCGTCACACCATGGGAGTGGGTTGCACCAGAAGTAGCTAGTCTAACCTTCGGGAGGACGGTTACCACGGTGTGATTCATGACTGGGGTGAAGTCGTAACAAGGTAGCCGTAGGGGAACCTGCGGCTGGATCACCTCCTTAATCGA\n",
      "\n"
     ]
    }
   ],
   "source": [
    "# extract 16S ribosomal RNA gene sequence\n",
    "command = \"bedtools getfasta -fi contigs.fasta -bed 16S_gene.gff\"\n",
    "p = subprocess.run(command.split(), stdout=subprocess.PIPE, stderr=subprocess.PIPE)\n",
    "print(p.stderr.decode())\n",
    "print(p.stdout.decode())"
   ]
  },
  {
   "cell_type": "markdown",
   "metadata": {},
   "source": [
    "Using [Ribosomal Database Project’s SeqMatch tool](https://rdp.cme.msu.edu/seqmatch/seqmatch_intro.jsp), a genus-level identification was obtained as **Pseudomonas**. The conclusion is based on the result by Ribosomal Database Project’s SeqMatch tool, which compared our sequence with a database of high-quality, curated sequences, obtained from known bacteria and determined that our sequence matched that of Pseudomonas to a level that can conclude it belongs to Pseudomonas."
   ]
  },
  {
   "cell_type": "markdown",
   "metadata": {},
   "source": [
    "## Write-Up  \n",
    "**The annotation was taking forever and it is still not finished. The following write-up is based solely on research.**     \n",
    "Pseudomonas is a gram negative bacteria that lives in various places, including soil, water and also numerous places in the hospital. It is considered as a pathogen towards human. Localized pseudomonas infections after surgery or burns occur commonly, and can be fatal if not treated carefully. Cancer patients and patient suffered from severe burns are more susceptible to the infection than others. Gentamicin and carbenicillin combined treatment are usually effective for severe cases, while gentamicin, tobramycin, colistin, and amikacin can be used to treat most Pseudomonas strains that have not develop resistance. Based on that, it is unlikely to observe the resistance gene for the antibiotics above, unless it has developed resistance for them by the incorporation of antibiotic resistant plasmids or other.   \n",
    "Reference: Iglewski BH. Pseudomonas. In: Baron S, editor. Medical Microbiology. 4th edition. Galveston (TX): University of Texas Medical Branch at Galveston; 1996. Chapter 27. Available from: https://www.ncbi.nlm.nih.gov/books/NBK8326/?report=classic"
   ]
  },
  {
   "cell_type": "code",
   "execution_count": null,
   "metadata": {},
   "outputs": [],
   "source": []
  }
 ],
 "metadata": {
  "kernelspec": {
   "display_name": "Python 3",
   "language": "python",
   "name": "python3"
  },
  "language_info": {
   "codemirror_mode": {
    "name": "ipython",
    "version": 3
   },
   "file_extension": ".py",
   "mimetype": "text/x-python",
   "name": "python",
   "nbconvert_exporter": "python",
   "pygments_lexer": "ipython3",
   "version": "3.6.6"
  }
 },
 "nbformat": 4,
 "nbformat_minor": 2
}
